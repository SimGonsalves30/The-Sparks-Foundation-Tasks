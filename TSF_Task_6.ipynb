{
  "nbformat": 4,
  "nbformat_minor": 0,
  "metadata": {
    "colab": {
      "name": "TSF Task 6.ipynb",
      "provenance": [],
      "collapsed_sections": [],
      "authorship_tag": "ABX9TyObfLQ3vVV5Ax/s30BymiQM"
    },
    "kernelspec": {
      "name": "python3",
      "display_name": "Python 3"
    },
    "language_info": {
      "name": "python"
    }
  },
  "cells": [
    {
      "cell_type": "markdown",
      "metadata": {
        "id": "kKJDQT_AGxV3"
      },
      "source": [
        "# **THE SPARKS FOUNDATION**\n",
        "\n",
        "\n",
        "\n",
        "---\n",
        "\n"
      ]
    },
    {
      "cell_type": "markdown",
      "metadata": {
        "id": "WIN2pJsTGxzG"
      },
      "source": [
        "# **DATA SCIENCE AND BUSINESS ANALYTICS INTERNSHIP AUGUST-2021**"
      ]
    },
    {
      "cell_type": "markdown",
      "metadata": {
        "id": "Lk6Qt0vYGyB9"
      },
      "source": [
        "# SUBMITTED BY : **SIMRAN GONSALVES**"
      ]
    },
    {
      "cell_type": "markdown",
      "metadata": {
        "id": "SMPyydKwGyNN"
      },
      "source": [
        "## ***TASK 6 - Prediction using Decision Tree Algorithm***"
      ]
    },
    {
      "cell_type": "markdown",
      "metadata": {
        "id": "1fDshgzV5eVF"
      },
      "source": [
        "### **Create the Decision Tree classifier and visualize it graphically.**\n",
        "\n",
        "\n",
        "\n",
        "---\n",
        "\n",
        "\n",
        "\n",
        "---\n",
        "\n"
      ]
    },
    {
      "cell_type": "markdown",
      "metadata": {
        "id": "Ltdg3YceHr-a"
      },
      "source": [
        "# **DATA LOADING**"
      ]
    },
    {
      "cell_type": "markdown",
      "metadata": {
        "id": "ulWEYrjyINau"
      },
      "source": [
        "As the first step, all the required libraries and the dataset is imported."
      ]
    },
    {
      "cell_type": "code",
      "metadata": {
        "id": "9Cd_-CVB0_-y"
      },
      "source": [
        "import pandas as pd\n",
        "import numpy as np\n",
        "import matplotlib.pyplot as plt\n",
        "from sklearn import datasets\n",
        "import seaborn as sns  # data visualization"
      ],
      "execution_count": null,
      "outputs": []
    },
    {
      "cell_type": "code",
      "metadata": {
        "colab": {
          "base_uri": "https://localhost:8080/",
          "height": 419
        },
        "id": "vEVFycP81Yoy",
        "outputId": "21699775-e822-4568-f323-0ba52a76aec4"
      },
      "source": [
        "# Loading the iris dataset\n",
        "iris=datasets.load_iris()\n",
        "\n",
        "# Forming the iris dataframe\n",
        "df=pd.DataFrame(iris.data, columns=iris.feature_names)\n",
        "df"
      ],
      "execution_count": null,
      "outputs": [
        {
          "output_type": "execute_result",
          "data": {
            "text/html": [
              "<div>\n",
              "<style scoped>\n",
              "    .dataframe tbody tr th:only-of-type {\n",
              "        vertical-align: middle;\n",
              "    }\n",
              "\n",
              "    .dataframe tbody tr th {\n",
              "        vertical-align: top;\n",
              "    }\n",
              "\n",
              "    .dataframe thead th {\n",
              "        text-align: right;\n",
              "    }\n",
              "</style>\n",
              "<table border=\"1\" class=\"dataframe\">\n",
              "  <thead>\n",
              "    <tr style=\"text-align: right;\">\n",
              "      <th></th>\n",
              "      <th>sepal length (cm)</th>\n",
              "      <th>sepal width (cm)</th>\n",
              "      <th>petal length (cm)</th>\n",
              "      <th>petal width (cm)</th>\n",
              "    </tr>\n",
              "  </thead>\n",
              "  <tbody>\n",
              "    <tr>\n",
              "      <th>0</th>\n",
              "      <td>5.1</td>\n",
              "      <td>3.5</td>\n",
              "      <td>1.4</td>\n",
              "      <td>0.2</td>\n",
              "    </tr>\n",
              "    <tr>\n",
              "      <th>1</th>\n",
              "      <td>4.9</td>\n",
              "      <td>3.0</td>\n",
              "      <td>1.4</td>\n",
              "      <td>0.2</td>\n",
              "    </tr>\n",
              "    <tr>\n",
              "      <th>2</th>\n",
              "      <td>4.7</td>\n",
              "      <td>3.2</td>\n",
              "      <td>1.3</td>\n",
              "      <td>0.2</td>\n",
              "    </tr>\n",
              "    <tr>\n",
              "      <th>3</th>\n",
              "      <td>4.6</td>\n",
              "      <td>3.1</td>\n",
              "      <td>1.5</td>\n",
              "      <td>0.2</td>\n",
              "    </tr>\n",
              "    <tr>\n",
              "      <th>4</th>\n",
              "      <td>5.0</td>\n",
              "      <td>3.6</td>\n",
              "      <td>1.4</td>\n",
              "      <td>0.2</td>\n",
              "    </tr>\n",
              "    <tr>\n",
              "      <th>...</th>\n",
              "      <td>...</td>\n",
              "      <td>...</td>\n",
              "      <td>...</td>\n",
              "      <td>...</td>\n",
              "    </tr>\n",
              "    <tr>\n",
              "      <th>145</th>\n",
              "      <td>6.7</td>\n",
              "      <td>3.0</td>\n",
              "      <td>5.2</td>\n",
              "      <td>2.3</td>\n",
              "    </tr>\n",
              "    <tr>\n",
              "      <th>146</th>\n",
              "      <td>6.3</td>\n",
              "      <td>2.5</td>\n",
              "      <td>5.0</td>\n",
              "      <td>1.9</td>\n",
              "    </tr>\n",
              "    <tr>\n",
              "      <th>147</th>\n",
              "      <td>6.5</td>\n",
              "      <td>3.0</td>\n",
              "      <td>5.2</td>\n",
              "      <td>2.0</td>\n",
              "    </tr>\n",
              "    <tr>\n",
              "      <th>148</th>\n",
              "      <td>6.2</td>\n",
              "      <td>3.4</td>\n",
              "      <td>5.4</td>\n",
              "      <td>2.3</td>\n",
              "    </tr>\n",
              "    <tr>\n",
              "      <th>149</th>\n",
              "      <td>5.9</td>\n",
              "      <td>3.0</td>\n",
              "      <td>5.1</td>\n",
              "      <td>1.8</td>\n",
              "    </tr>\n",
              "  </tbody>\n",
              "</table>\n",
              "<p>150 rows × 4 columns</p>\n",
              "</div>"
            ],
            "text/plain": [
              "     sepal length (cm)  sepal width (cm)  petal length (cm)  petal width (cm)\n",
              "0                  5.1               3.5                1.4               0.2\n",
              "1                  4.9               3.0                1.4               0.2\n",
              "2                  4.7               3.2                1.3               0.2\n",
              "3                  4.6               3.1                1.5               0.2\n",
              "4                  5.0               3.6                1.4               0.2\n",
              "..                 ...               ...                ...               ...\n",
              "145                6.7               3.0                5.2               2.3\n",
              "146                6.3               2.5                5.0               1.9\n",
              "147                6.5               3.0                5.2               2.0\n",
              "148                6.2               3.4                5.4               2.3\n",
              "149                5.9               3.0                5.1               1.8\n",
              "\n",
              "[150 rows x 4 columns]"
            ]
          },
          "metadata": {
            "tags": []
          },
          "execution_count": 2
        }
      ]
    },
    {
      "cell_type": "code",
      "metadata": {
        "colab": {
          "base_uri": "https://localhost:8080/"
        },
        "id": "wJcTPqkV1Yt0",
        "outputId": "27b97f60-5785-451e-f55e-9a8b4a17594b"
      },
      "source": [
        "df['Target']=pd.DataFrame(iris.target)\n",
        "df['Target']"
      ],
      "execution_count": null,
      "outputs": [
        {
          "output_type": "execute_result",
          "data": {
            "text/plain": [
              "0      0\n",
              "1      0\n",
              "2      0\n",
              "3      0\n",
              "4      0\n",
              "      ..\n",
              "145    2\n",
              "146    2\n",
              "147    2\n",
              "148    2\n",
              "149    2\n",
              "Name: Target, Length: 150, dtype: int64"
            ]
          },
          "metadata": {
            "tags": []
          },
          "execution_count": 3
        }
      ]
    },
    {
      "cell_type": "code",
      "metadata": {
        "colab": {
          "base_uri": "https://localhost:8080/",
          "height": 204
        },
        "id": "9VT8VKc41Yyy",
        "outputId": "6e30f4b0-ea81-4fcf-b245-0a0e983d62e5"
      },
      "source": [
        "df.head()"
      ],
      "execution_count": null,
      "outputs": [
        {
          "output_type": "execute_result",
          "data": {
            "text/html": [
              "<div>\n",
              "<style scoped>\n",
              "    .dataframe tbody tr th:only-of-type {\n",
              "        vertical-align: middle;\n",
              "    }\n",
              "\n",
              "    .dataframe tbody tr th {\n",
              "        vertical-align: top;\n",
              "    }\n",
              "\n",
              "    .dataframe thead th {\n",
              "        text-align: right;\n",
              "    }\n",
              "</style>\n",
              "<table border=\"1\" class=\"dataframe\">\n",
              "  <thead>\n",
              "    <tr style=\"text-align: right;\">\n",
              "      <th></th>\n",
              "      <th>sepal length (cm)</th>\n",
              "      <th>sepal width (cm)</th>\n",
              "      <th>petal length (cm)</th>\n",
              "      <th>petal width (cm)</th>\n",
              "      <th>Target</th>\n",
              "    </tr>\n",
              "  </thead>\n",
              "  <tbody>\n",
              "    <tr>\n",
              "      <th>0</th>\n",
              "      <td>5.1</td>\n",
              "      <td>3.5</td>\n",
              "      <td>1.4</td>\n",
              "      <td>0.2</td>\n",
              "      <td>0</td>\n",
              "    </tr>\n",
              "    <tr>\n",
              "      <th>1</th>\n",
              "      <td>4.9</td>\n",
              "      <td>3.0</td>\n",
              "      <td>1.4</td>\n",
              "      <td>0.2</td>\n",
              "      <td>0</td>\n",
              "    </tr>\n",
              "    <tr>\n",
              "      <th>2</th>\n",
              "      <td>4.7</td>\n",
              "      <td>3.2</td>\n",
              "      <td>1.3</td>\n",
              "      <td>0.2</td>\n",
              "      <td>0</td>\n",
              "    </tr>\n",
              "    <tr>\n",
              "      <th>3</th>\n",
              "      <td>4.6</td>\n",
              "      <td>3.1</td>\n",
              "      <td>1.5</td>\n",
              "      <td>0.2</td>\n",
              "      <td>0</td>\n",
              "    </tr>\n",
              "    <tr>\n",
              "      <th>4</th>\n",
              "      <td>5.0</td>\n",
              "      <td>3.6</td>\n",
              "      <td>1.4</td>\n",
              "      <td>0.2</td>\n",
              "      <td>0</td>\n",
              "    </tr>\n",
              "  </tbody>\n",
              "</table>\n",
              "</div>"
            ],
            "text/plain": [
              "   sepal length (cm)  sepal width (cm)  ...  petal width (cm)  Target\n",
              "0                5.1               3.5  ...               0.2       0\n",
              "1                4.9               3.0  ...               0.2       0\n",
              "2                4.7               3.2  ...               0.2       0\n",
              "3                4.6               3.1  ...               0.2       0\n",
              "4                5.0               3.6  ...               0.2       0\n",
              "\n",
              "[5 rows x 5 columns]"
            ]
          },
          "metadata": {
            "tags": []
          },
          "execution_count": 4
        }
      ]
    },
    {
      "cell_type": "markdown",
      "metadata": {
        "id": "1kKGnCMs508p"
      },
      "source": [
        "\n",
        "\n",
        "---\n",
        "\n"
      ]
    },
    {
      "cell_type": "markdown",
      "metadata": {
        "id": "OcBN_bV1IfJY"
      },
      "source": [
        "# **DATA PRE-PROCESSING**"
      ]
    },
    {
      "cell_type": "code",
      "metadata": {
        "colab": {
          "base_uri": "https://localhost:8080/"
        },
        "id": "YD0sLsYd1Y3l",
        "outputId": "cadda0d6-f2b4-457d-a500-0d0cf660c270"
      },
      "source": [
        "df.info()"
      ],
      "execution_count": null,
      "outputs": [
        {
          "output_type": "stream",
          "text": [
            "<class 'pandas.core.frame.DataFrame'>\n",
            "RangeIndex: 150 entries, 0 to 149\n",
            "Data columns (total 5 columns):\n",
            " #   Column             Non-Null Count  Dtype  \n",
            "---  ------             --------------  -----  \n",
            " 0   sepal length (cm)  150 non-null    float64\n",
            " 1   sepal width (cm)   150 non-null    float64\n",
            " 2   petal length (cm)  150 non-null    float64\n",
            " 3   petal width (cm)   150 non-null    float64\n",
            " 4   Target             150 non-null    int64  \n",
            "dtypes: float64(4), int64(1)\n",
            "memory usage: 6.0 KB\n"
          ],
          "name": "stdout"
        }
      ]
    },
    {
      "cell_type": "markdown",
      "metadata": {
        "id": "qrQsrWRNInH5"
      },
      "source": [
        "This dataset has float and integer values."
      ]
    },
    {
      "cell_type": "markdown",
      "metadata": {
        "id": "rMtmOflrIxwJ"
      },
      "source": [
        "### **Checking for any Null values**"
      ]
    },
    {
      "cell_type": "code",
      "metadata": {
        "colab": {
          "base_uri": "https://localhost:8080/"
        },
        "id": "IBVj55vY1Y72",
        "outputId": "a41b638f-986d-4c72-8863-14e8c4e30971"
      },
      "source": [
        "df.isna().sum()"
      ],
      "execution_count": null,
      "outputs": [
        {
          "output_type": "execute_result",
          "data": {
            "text/plain": [
              "sepal length (cm)    0\n",
              "sepal width (cm)     0\n",
              "petal length (cm)    0\n",
              "petal width (cm)     0\n",
              "Target               0\n",
              "dtype: int64"
            ]
          },
          "metadata": {
            "tags": []
          },
          "execution_count": 6
        }
      ]
    },
    {
      "cell_type": "markdown",
      "metadata": {
        "id": "HjQvDnvkI2NQ"
      },
      "source": [
        "From the above output we can see that there are no missing values in this dataset."
      ]
    },
    {
      "cell_type": "code",
      "metadata": {
        "colab": {
          "base_uri": "https://localhost:8080/",
          "height": 297
        },
        "id": "u5FB3FZz1ZAH",
        "outputId": "335134b9-247f-44e7-d073-2ee53188009f"
      },
      "source": [
        "df.describe() # Statistical description of the dataset"
      ],
      "execution_count": null,
      "outputs": [
        {
          "output_type": "execute_result",
          "data": {
            "text/html": [
              "<div>\n",
              "<style scoped>\n",
              "    .dataframe tbody tr th:only-of-type {\n",
              "        vertical-align: middle;\n",
              "    }\n",
              "\n",
              "    .dataframe tbody tr th {\n",
              "        vertical-align: top;\n",
              "    }\n",
              "\n",
              "    .dataframe thead th {\n",
              "        text-align: right;\n",
              "    }\n",
              "</style>\n",
              "<table border=\"1\" class=\"dataframe\">\n",
              "  <thead>\n",
              "    <tr style=\"text-align: right;\">\n",
              "      <th></th>\n",
              "      <th>sepal length (cm)</th>\n",
              "      <th>sepal width (cm)</th>\n",
              "      <th>petal length (cm)</th>\n",
              "      <th>petal width (cm)</th>\n",
              "      <th>Target</th>\n",
              "    </tr>\n",
              "  </thead>\n",
              "  <tbody>\n",
              "    <tr>\n",
              "      <th>count</th>\n",
              "      <td>150.000000</td>\n",
              "      <td>150.000000</td>\n",
              "      <td>150.000000</td>\n",
              "      <td>150.000000</td>\n",
              "      <td>150.000000</td>\n",
              "    </tr>\n",
              "    <tr>\n",
              "      <th>mean</th>\n",
              "      <td>5.843333</td>\n",
              "      <td>3.057333</td>\n",
              "      <td>3.758000</td>\n",
              "      <td>1.199333</td>\n",
              "      <td>1.000000</td>\n",
              "    </tr>\n",
              "    <tr>\n",
              "      <th>std</th>\n",
              "      <td>0.828066</td>\n",
              "      <td>0.435866</td>\n",
              "      <td>1.765298</td>\n",
              "      <td>0.762238</td>\n",
              "      <td>0.819232</td>\n",
              "    </tr>\n",
              "    <tr>\n",
              "      <th>min</th>\n",
              "      <td>4.300000</td>\n",
              "      <td>2.000000</td>\n",
              "      <td>1.000000</td>\n",
              "      <td>0.100000</td>\n",
              "      <td>0.000000</td>\n",
              "    </tr>\n",
              "    <tr>\n",
              "      <th>25%</th>\n",
              "      <td>5.100000</td>\n",
              "      <td>2.800000</td>\n",
              "      <td>1.600000</td>\n",
              "      <td>0.300000</td>\n",
              "      <td>0.000000</td>\n",
              "    </tr>\n",
              "    <tr>\n",
              "      <th>50%</th>\n",
              "      <td>5.800000</td>\n",
              "      <td>3.000000</td>\n",
              "      <td>4.350000</td>\n",
              "      <td>1.300000</td>\n",
              "      <td>1.000000</td>\n",
              "    </tr>\n",
              "    <tr>\n",
              "      <th>75%</th>\n",
              "      <td>6.400000</td>\n",
              "      <td>3.300000</td>\n",
              "      <td>5.100000</td>\n",
              "      <td>1.800000</td>\n",
              "      <td>2.000000</td>\n",
              "    </tr>\n",
              "    <tr>\n",
              "      <th>max</th>\n",
              "      <td>7.900000</td>\n",
              "      <td>4.400000</td>\n",
              "      <td>6.900000</td>\n",
              "      <td>2.500000</td>\n",
              "      <td>2.000000</td>\n",
              "    </tr>\n",
              "  </tbody>\n",
              "</table>\n",
              "</div>"
            ],
            "text/plain": [
              "       sepal length (cm)  sepal width (cm)  ...  petal width (cm)      Target\n",
              "count         150.000000        150.000000  ...        150.000000  150.000000\n",
              "mean            5.843333          3.057333  ...          1.199333    1.000000\n",
              "std             0.828066          0.435866  ...          0.762238    0.819232\n",
              "min             4.300000          2.000000  ...          0.100000    0.000000\n",
              "25%             5.100000          2.800000  ...          0.300000    0.000000\n",
              "50%             5.800000          3.000000  ...          1.300000    1.000000\n",
              "75%             6.400000          3.300000  ...          1.800000    2.000000\n",
              "max             7.900000          4.400000  ...          2.500000    2.000000\n",
              "\n",
              "[8 rows x 5 columns]"
            ]
          },
          "metadata": {
            "tags": []
          },
          "execution_count": 7
        }
      ]
    },
    {
      "cell_type": "markdown",
      "metadata": {
        "id": "zJ2GlbwUJIZ8"
      },
      "source": [
        "Here some useful statistical information is obtained, like,\n",
        "\n",
        "Mean (Average): adding up all the sample values for a given feature, then dividing it by the number of samples.\n",
        "\n",
        "Median: The middle number in the list of ascending order.\n",
        "\n",
        "Mode: The value that occurs the most in a list of samples.\n",
        "\n",
        "Range: The difference between the highest value and the lowest values in a list.\n",
        "\n",
        "Standard Deviation: used to measure the dispersion of values in a set."
      ]
    },
    {
      "cell_type": "code",
      "metadata": {
        "id": "RCsFdZdf1ZFN",
        "colab": {
          "base_uri": "https://localhost:8080/"
        },
        "outputId": "78226989-0a88-4f66-9e3e-80d1908972bc"
      },
      "source": [
        "df.Target.value_counts() # to find the frequency of unique values"
      ],
      "execution_count": null,
      "outputs": [
        {
          "output_type": "execute_result",
          "data": {
            "text/plain": [
              "2    50\n",
              "1    50\n",
              "0    50\n",
              "Name: Target, dtype: int64"
            ]
          },
          "metadata": {
            "tags": []
          },
          "execution_count": 8
        }
      ]
    },
    {
      "cell_type": "markdown",
      "metadata": {
        "id": "vQe5BHHv6cN9"
      },
      "source": [
        "This tells the count of each Target value in descending order."
      ]
    },
    {
      "cell_type": "markdown",
      "metadata": {
        "id": "PxFYnDZl6fW2"
      },
      "source": [
        "\n",
        "\n",
        "---\n",
        "\n"
      ]
    },
    {
      "cell_type": "markdown",
      "metadata": {
        "id": "nVxZnwIyJSW8"
      },
      "source": [
        "# **Data Visualization**"
      ]
    },
    {
      "cell_type": "code",
      "metadata": {
        "id": "aNbc4DdE1ZQt",
        "colab": {
          "base_uri": "https://localhost:8080/",
          "height": 297
        },
        "outputId": "59ad01f0-b8e5-4d58-daa9-ff783d18bd83"
      },
      "source": [
        "sns.barplot(x = 'Target', y = 'sepal length (cm)', data = df,palette='RdPu_d')"
      ],
      "execution_count": null,
      "outputs": [
        {
          "output_type": "execute_result",
          "data": {
            "text/plain": [
              "<matplotlib.axes._subplots.AxesSubplot at 0x7fb76f3a9910>"
            ]
          },
          "metadata": {
            "tags": []
          },
          "execution_count": 9
        },
        {
          "output_type": "display_data",
          "data": {
            "image/png": "[encoded data removed]",
            "text/plain": [
              "<Figure size 432x288 with 1 Axes>"
            ]
          },
          "metadata": {
            "tags": [],
            "needs_background": "light"
          }
        }
      ]
    },
    {
      "cell_type": "code",
      "metadata": {
        "id": "5WF4ov_C1ZVE",
        "colab": {
          "base_uri": "https://localhost:8080/",
          "height": 296
        },
        "outputId": "597bbdf9-36cf-4a0b-eddb-747b701748e1"
      },
      "source": [
        "sns.barplot(x = 'Target', y = 'sepal width (cm)', data = df,palette='Oranges_d')"
      ],
      "execution_count": null,
      "outputs": [
        {
          "output_type": "execute_result",
          "data": {
            "text/plain": [
              "<matplotlib.axes._subplots.AxesSubplot at 0x7fb76f2242d0>"
            ]
          },
          "metadata": {
            "tags": []
          },
          "execution_count": 10
        },
        {
          "output_type": "display_data",
          "data": {
            "image/png": "[encoded data removed]",
            "text/plain": [
              "<Figure size 432x288 with 1 Axes>"
            ]
          },
          "metadata": {
            "tags": [],
            "needs_background": "light"
          }
        }
      ]
    },
    {
      "cell_type": "code",
      "metadata": {
        "id": "6UGYEk8R1ZZI",
        "colab": {
          "base_uri": "https://localhost:8080/",
          "height": 296
        },
        "outputId": "4ca351fa-0825-4b78-d848-a9e4d99c6eab"
      },
      "source": [
        "sns.barplot(x = 'Target', y = 'petal length (cm)', data = df,palette='winter_d')"
      ],
      "execution_count": null,
      "outputs": [
        {
          "output_type": "execute_result",
          "data": {
            "text/plain": [
              "<matplotlib.axes._subplots.AxesSubplot at 0x7fb76ed5a4d0>"
            ]
          },
          "metadata": {
            "tags": []
          },
          "execution_count": 11
        },
        {
          "output_type": "display_data",
          "data": {
            "image/png": "[encoded data removed]",
            "text/plain": [
              "<Figure size 432x288 with 1 Axes>"
            ]
          },
          "metadata": {
            "tags": [],
            "needs_background": "light"
          }
        }
      ]
    },
    {
      "cell_type": "code",
      "metadata": {
        "id": "1hLqV4BF1ZdI",
        "colab": {
          "base_uri": "https://localhost:8080/",
          "height": 296
        },
        "outputId": "a039bb4e-70de-4d7d-cbb6-da418a993362"
      },
      "source": [
        "sns.barplot(x = 'Target', y = 'petal width (cm)', data = df,palette='Greens_d')"
      ],
      "execution_count": null,
      "outputs": [
        {
          "output_type": "execute_result",
          "data": {
            "text/plain": [
              "<matplotlib.axes._subplots.AxesSubplot at 0x7fb76ed2d090>"
            ]
          },
          "metadata": {
            "tags": []
          },
          "execution_count": 12
        },
        {
          "output_type": "display_data",
          "data": {
            "image/png": "[encoded data removed]",
            "text/plain": [
              "<Figure size 432x288 with 1 Axes>"
            ]
          },
          "metadata": {
            "tags": [],
            "needs_background": "light"
          }
        }
      ]
    },
    {
      "cell_type": "markdown",
      "metadata": {
        "id": "K-pEIHIr7YhP"
      },
      "source": [
        "\n",
        "\n",
        "---\n",
        "\n"
      ]
    },
    {
      "cell_type": "markdown",
      "metadata": {
        "id": "mDgXH7BpGLid"
      },
      "source": [
        "# **Data Correlation**"
      ]
    },
    {
      "cell_type": "markdown",
      "metadata": {
        "id": "tYi5qi1jJeyE"
      },
      "source": [
        "To obtain the detailed information about data correlation, correlation matrix is used. The correlation matrix gives information about how the two variables interact."
      ]
    },
    {
      "cell_type": "code",
      "metadata": {
        "id": "8azcDRr41ZLQ",
        "colab": {
          "base_uri": "https://localhost:8080/",
          "height": 504
        },
        "outputId": "8bb294d7-f628-4101-f81b-b56cbe70f5b9"
      },
      "source": [
        "correlation=df.corr()\n",
        "colormap=plt.cm.autumn\n",
        "plt.figure(figsize=(12,8))\n",
        "sns.heatmap(correlation,cmap=colormap, annot=True, linewidths=0.2) "
      ],
      "execution_count": null,
      "outputs": [
        {
          "output_type": "execute_result",
          "data": {
            "text/plain": [
              "<matplotlib.axes._subplots.AxesSubplot at 0x7fb76ed3ad50>"
            ]
          },
          "metadata": {
            "tags": []
          },
          "execution_count": 13
        },
        {
          "output_type": "display_data",
          "data": {
            "image/png": "[encoded data removed]",
            "text/plain": [
              "<Figure size 864x576 with 2 Axes>"
            ]
          },
          "metadata": {
            "tags": [],
            "needs_background": "light"
          }
        }
      ]
    },
    {
      "cell_type": "markdown",
      "metadata": {
        "id": "Ky7vBC0P7Au8"
      },
      "source": [
        "\n",
        "\n",
        "---\n",
        "\n"
      ]
    },
    {
      "cell_type": "markdown",
      "metadata": {
        "id": "z6asxa8DYfGm"
      },
      "source": [
        "# **Train Test Split**"
      ]
    },
    {
      "cell_type": "markdown",
      "metadata": {
        "id": "vkkjKN48wHCG"
      },
      "source": [
        "The dataset is then divided into target (y) and input (X) features."
      ]
    },
    {
      "cell_type": "code",
      "metadata": {
        "id": "ETo_MH6wSGia"
      },
      "source": [
        "# seperating the data into features and target variable\n",
        "\n",
        "X = df.drop(\"Target\",axis=1)\n",
        "y = df['Target']"
      ],
      "execution_count": null,
      "outputs": []
    },
    {
      "cell_type": "markdown",
      "metadata": {
        "id": "3MOc8nUww6tK"
      },
      "source": [
        "After this the data is split into training and testing data in the proportion 80:20 using sklearn train_test_split.\n",
        "\n",
        "\n",
        "---\n",
        "\n"
      ]
    },
    {
      "cell_type": "code",
      "metadata": {
        "id": "6mZf5d5CSGod"
      },
      "source": [
        "# splitting the data into train and test sets in the proportion 80:20 \n",
        "\n",
        "from sklearn.model_selection import train_test_split\n",
        "X_train,X_test,y_train,y_test = train_test_split(X,y,test_size=0.20,random_state=0)"
      ],
      "execution_count": null,
      "outputs": []
    },
    {
      "cell_type": "markdown",
      "metadata": {
        "id": "AH4jaQpMYV9r"
      },
      "source": [
        "# **Feature Scaling / Standardization**"
      ]
    },
    {
      "cell_type": "markdown",
      "metadata": {
        "id": "fs8L3B0nwoK0"
      },
      "source": [
        "Feature Scaling or Standardization is used to normalise the data within a particular range. Standardization is about making sure that data is internally consistent; that is, each data type has the same content and format. It is a process of subtracting the means from each feature and dividing by the feature standard deviations.\n",
        "\n",
        "The ultimate goal to perform standardization  in this dataset is to bring down all the features to a common scale without distorting the differences in the range of the values.\n",
        "\n",
        "\n",
        "---\n",
        "\n"
      ]
    },
    {
      "cell_type": "code",
      "metadata": {
        "colab": {
          "base_uri": "https://localhost:8080/"
        },
        "id": "Obkff8iwSGtg",
        "outputId": "4213baa3-6243-4ba9-84b2-0db08af24691"
      },
      "source": [
        "from sklearn.preprocessing import StandardScaler\n",
        "sc=StandardScaler()\n",
        "\n",
        "X_train=sc.fit_transform(X_train)    # learning\n",
        "print(X_train)\n",
        "\n",
        "X_test=sc.transform(X_test)\n",
        "print(\"##############################\")\n",
        "print(X_test)"
      ],
      "execution_count": null,
      "outputs": [
        {
          "output_type": "stream",
          "text": [
            "[[ 0.61303014  0.10850105  0.94751783  0.736072  ]\n",
            " [-0.56776627 -0.12400121  0.38491447  0.34752959]\n",
            " [-0.80392556  1.03851009 -1.30289562 -1.33615415]\n",
            " [ 0.25879121 -0.12400121  0.60995581  0.736072  ]\n",
            " [ 0.61303014 -0.58900572  1.00377816  1.25412853]\n",
            " [-0.80392556 -0.82150798  0.04735245  0.21801546]\n",
            " [-0.21352735  1.73601687 -1.19037495 -1.20664002]\n",
            " [ 0.14071157 -0.82150798  0.72247648  0.47704373]\n",
            " [ 0.02263193 -0.12400121  0.21613346  0.34752959]\n",
            " [-0.09544771 -1.05401024  0.10361279 -0.04101281]\n",
            " [ 1.0853487  -0.12400121  0.94751783  1.1246144 ]\n",
            " [-1.39432376  0.34100331 -1.41541629 -1.33615415]\n",
            " [ 1.20342834  0.10850105  0.72247648  1.38364267]\n",
            " [-1.04008484  1.03851009 -1.24663528 -0.81809761]\n",
            " [-0.56776627  1.50351461 -1.30289562 -1.33615415]\n",
            " [-1.04008484 -2.4490238  -0.1776889  -0.30004108]\n",
            " [ 0.73110978 -0.12400121  0.94751783  0.736072  ]\n",
            " [ 0.96726906  0.57350557  1.0600385   1.64267094]\n",
            " [ 0.14071157 -1.98401928  0.66621615  0.34752959]\n",
            " [ 0.96726906 -1.2865125   1.11629884  0.736072  ]\n",
            " [-0.33160699 -1.2865125   0.04735245 -0.17052694]\n",
            " [ 2.14806547 -0.12400121  1.28507985  1.38364267]\n",
            " [ 0.49495049  0.57350557  0.49743514  0.47704373]\n",
            " [-0.44968663 -1.51901476 -0.00890789 -0.17052694]\n",
            " [ 0.49495049 -0.82150798  0.60995581  0.736072  ]\n",
            " [ 0.49495049 -0.58900572  0.72247648  0.34752959]\n",
            " [-1.15816448 -1.2865125   0.38491447  0.60655786]\n",
            " [ 0.49495049 -1.2865125   0.66621615  0.86558613]\n",
            " [ 1.32150798  0.34100331  0.49743514  0.21801546]\n",
            " [ 0.73110978 -0.12400121  0.77873682  0.99510027]\n",
            " [ 0.14071157  0.80600783  0.38491447  0.47704373]\n",
            " [-1.27624412  0.10850105 -1.24663528 -1.33615415]\n",
            " [-0.09544771 -0.82150798  0.72247648  0.86558613]\n",
            " [-0.33160699 -0.82150798  0.21613346  0.08850133]\n",
            " [-0.33160699 -0.35650346 -0.12142856  0.08850133]\n",
            " [-0.44968663 -1.2865125   0.10361279  0.08850133]\n",
            " [ 0.25879121 -0.12400121  0.4411748   0.21801546]\n",
            " [ 1.55766726  0.34100331  1.22881951  0.736072  ]\n",
            " [-0.68584591  1.50351461 -1.30289562 -1.33615415]\n",
            " [-1.86664232 -0.12400121 -1.52793696 -1.46566829]\n",
            " [ 0.61303014 -0.82150798  0.83499716  0.86558613]\n",
            " [-0.21352735 -0.12400121  0.21613346 -0.04101281]\n",
            " [-0.56776627  0.80600783 -1.19037495 -1.33615415]\n",
            " [-0.21352735  3.13103043 -1.30289562 -1.07712588]\n",
            " [ 1.20342834  0.10850105  0.60995581  0.34752959]\n",
            " [-1.5124034   0.10850105 -1.30289562 -1.33615415]\n",
            " [ 0.02263193 -0.12400121  0.72247648  0.736072  ]\n",
            " [-0.9220052  -1.2865125  -0.45899058 -0.17052694]\n",
            " [-1.5124034   0.80600783 -1.35915595 -1.20664002]\n",
            " [ 0.37687085 -1.98401928  0.38491447  0.34752959]\n",
            " [ 1.55766726  1.27101235  1.28507985  1.64267094]\n",
            " [-0.21352735 -0.35650346  0.21613346  0.08850133]\n",
            " [-1.27624412 -0.12400121 -1.35915595 -1.46566829]\n",
            " [ 1.43958762 -0.12400121  1.17255917  1.1246144 ]\n",
            " [ 1.20342834  0.34100331  1.0600385   1.38364267]\n",
            " [ 0.73110978 -0.12400121  1.11629884  1.25412853]\n",
            " [ 0.61303014 -0.58900572  1.00377816  1.1246144 ]\n",
            " [-0.9220052   1.73601687 -1.24663528 -1.33615415]\n",
            " [-1.27624412  0.80600783 -1.24663528 -1.33615415]\n",
            " [ 0.73110978  0.34100331  0.72247648  0.99510027]\n",
            " [ 0.96726906  0.57350557  1.0600385   1.1246144 ]\n",
            " [-1.63048304 -1.75151702 -1.41541629 -1.20664002]\n",
            " [ 0.37687085  0.80600783  0.89125749  1.38364267]\n",
            " [-1.15816448 -0.12400121 -1.35915595 -1.33615415]\n",
            " [-0.21352735 -1.2865125   0.66621615  0.99510027]\n",
            " [ 1.20342834  0.10850105  0.89125749  1.1246144 ]\n",
            " [-1.74856268  0.34100331 -1.41541629 -1.33615415]\n",
            " [-1.04008484  1.27101235 -1.35915595 -1.33615415]\n",
            " [ 1.55766726 -0.12400121  1.11629884  0.47704373]\n",
            " [-0.9220052   1.03851009 -1.35915595 -1.20664002]\n",
            " [-1.74856268 -0.12400121 -1.41541629 -1.33615415]\n",
            " [-0.56776627  1.96851913 -1.19037495 -1.07712588]\n",
            " [-0.44968663 -1.75151702  0.10361279  0.08850133]\n",
            " [ 1.0853487   0.34100331  1.17255917  1.38364267]\n",
            " [ 2.02998583 -0.12400121  1.56638153  1.1246144 ]\n",
            " [-0.9220052   1.03851009 -1.35915595 -1.33615415]\n",
            " [-1.15816448  0.10850105 -1.30289562 -1.33615415]\n",
            " [-0.80392556  0.80600783 -1.35915595 -1.33615415]\n",
            " [-0.21352735 -0.58900572  0.38491447  0.08850133]\n",
            " [ 0.84918942 -0.12400121  0.32865413  0.21801546]\n",
            " [-1.04008484  0.34100331 -1.47167663 -1.33615415]\n",
            " [-0.9220052   0.57350557 -1.19037495 -0.94761175]\n",
            " [ 0.61303014 -0.35650346  0.27239379  0.08850133]\n",
            " [-0.56776627  0.80600783 -1.30289562 -1.07712588]\n",
            " [ 2.14806547 -1.05401024  1.73516253  1.38364267]\n",
            " [-1.15816448 -1.51901476 -0.29020957 -0.30004108]\n",
            " [ 2.38422475  1.73601687  1.45386085  0.99510027]\n",
            " [ 0.96726906  0.10850105  0.32865413  0.21801546]\n",
            " [-0.80392556  2.43352365 -1.30289562 -1.46566829]\n",
            " [ 0.14071157 -0.12400121  0.55369548  0.736072  ]\n",
            " [-0.09544771  2.20102139 -1.47167663 -1.33615415]\n",
            " [ 2.14806547 -0.58900572  1.62264186  0.99510027]\n",
            " [-0.9220052   1.73601687 -1.30289562 -1.20664002]\n",
            " [-1.39432376  0.34100331 -1.24663528 -1.33615415]\n",
            " [ 1.79382654 -0.58900572  1.28507985  0.86558613]\n",
            " [-1.04008484  0.57350557 -1.35915595 -1.33615415]\n",
            " [ 0.49495049  0.80600783  1.00377816  1.5131568 ]\n",
            " [-0.21352735 -0.58900572  0.15987312  0.08850133]\n",
            " [-0.09544771 -0.82150798  0.04735245 -0.04101281]\n",
            " [-0.21352735 -1.05401024 -0.1776889  -0.30004108]\n",
            " [ 0.61303014  0.34100331  0.83499716  1.38364267]\n",
            " [ 0.96726906 -0.12400121  0.77873682  1.38364267]\n",
            " [ 0.49495049 -1.2865125   0.60995581  0.34752959]\n",
            " [ 0.96726906 -0.12400121  0.66621615  0.60655786]\n",
            " [-1.04008484 -0.12400121 -1.24663528 -1.33615415]\n",
            " [-0.44968663 -1.51901476 -0.06516822 -0.30004108]\n",
            " [ 0.96726906  0.10850105  1.00377816  1.5131568 ]\n",
            " [-0.09544771 -0.82150798  0.72247648  0.86558613]\n",
            " [-0.9220052   0.80600783 -1.30289562 -1.33615415]\n",
            " [ 0.84918942 -0.35650346  0.4411748   0.08850133]\n",
            " [-0.33160699 -0.12400121  0.15987312  0.08850133]\n",
            " [ 0.02263193  0.34100331  0.55369548  0.736072  ]\n",
            " [ 0.49495049 -1.75151702  0.32865413  0.08850133]\n",
            " [-0.44968663  1.03851009 -1.41541629 -1.33615415]\n",
            " [-0.9220052   1.50351461 -1.30289562 -1.07712588]\n",
            " [-1.15816448  0.10850105 -1.30289562 -1.46566829]\n",
            " [ 0.49495049 -0.35650346  1.00377816  0.736072  ]\n",
            " [-0.09544771 -0.82150798  0.15987312 -0.30004108]\n",
            " [ 2.14806547  1.73601687  1.62264186  1.25412853]\n",
            " [-1.5124034   0.34100331 -1.35915595 -1.33615415]]\n",
            "##############################\n",
            "[[-0.09544771 -0.58900572  0.72247648  1.5131568 ]\n",
            " [ 0.14071157 -1.98401928  0.10361279 -0.30004108]\n",
            " [-0.44968663  2.66602591 -1.35915595 -1.33615415]\n",
            " [ 1.6757469  -0.35650346  1.39760052  0.736072  ]\n",
            " [-1.04008484  0.80600783 -1.30289562 -1.33615415]\n",
            " [ 0.49495049  0.57350557  1.22881951  1.64267094]\n",
            " [-1.04008484  1.03851009 -1.41541629 -1.20664002]\n",
            " [ 0.96726906  0.10850105  0.49743514  0.34752959]\n",
            " [ 1.0853487  -0.58900572  0.55369548  0.21801546]\n",
            " [ 0.25879121 -0.58900572  0.10361279  0.08850133]\n",
            " [ 0.25879121 -1.05401024  1.00377816  0.21801546]\n",
            " [ 0.61303014  0.34100331  0.38491447  0.34752959]\n",
            " [ 0.25879121 -0.58900572  0.49743514 -0.04101281]\n",
            " [ 0.73110978 -0.58900572  0.4411748   0.34752959]\n",
            " [ 0.25879121 -0.35650346  0.49743514  0.21801546]\n",
            " [-1.15816448  1.27101235 -1.35915595 -1.46566829]\n",
            " [ 0.14071157 -0.35650346  0.38491447  0.34752959]\n",
            " [-0.44968663 -1.05401024  0.32865413 -0.04101281]\n",
            " [-1.27624412 -0.12400121 -1.35915595 -1.20664002]\n",
            " [-0.56776627  1.96851913 -1.41541629 -1.07712588]\n",
            " [-0.33160699 -0.58900572  0.60995581  0.99510027]\n",
            " [-0.33160699 -0.12400121  0.38491447  0.34752959]\n",
            " [-1.27624412  0.80600783 -1.07785427 -1.33615415]\n",
            " [-1.74856268 -0.35650346 -1.35915595 -1.33615415]\n",
            " [ 0.37687085 -0.58900572  0.55369548  0.736072  ]\n",
            " [-1.5124034   1.27101235 -1.5841973  -1.33615415]\n",
            " [-0.9220052   1.73601687 -1.07785427 -1.07712588]\n",
            " [ 0.37687085 -0.35650346  0.27239379  0.08850133]\n",
            " [-1.04008484 -1.75151702 -0.29020957 -0.30004108]\n",
            " [-1.04008484  0.80600783 -1.24663528 -1.07712588]]\n"
          ],
          "name": "stdout"
        }
      ]
    },
    {
      "cell_type": "markdown",
      "metadata": {
        "id": "EJ8l0pk4V1iB"
      },
      "source": [
        "# **Decision Tree**"
      ]
    },
    {
      "cell_type": "markdown",
      "metadata": {
        "id": "y1bnhFrG4D3p"
      },
      "source": [
        "Decision Tree is a Supervised Machine learning technique that can be used for both classification and Regression problems, but mostly it is preferred for solving Classification problems. It is a tree-structured classifier, where internal nodes represent the features of a dataset, branches represent the decision rules and each leaf node represents the outcome.\n",
        "\n",
        "\n",
        "---\n",
        "\n"
      ]
    },
    {
      "cell_type": "code",
      "metadata": {
        "colab": {
          "base_uri": "https://localhost:8080/"
        },
        "id": "Hjx5jQbZSGyR",
        "outputId": "ee2dd079-72b4-4051-b150-3993ac79d917"
      },
      "source": [
        "from sklearn.tree import DecisionTreeClassifier\n",
        "from sklearn import tree\n",
        "clf=DecisionTreeClassifier()\n",
        "model=clf.fit(X_train,y_train)\n",
        "text_visual=tree.export_text(clf)\n",
        "print(text_visual)"
      ],
      "execution_count": null,
      "outputs": [
        {
          "output_type": "stream",
          "text": [
            "|--- feature_2 <= -0.82\n",
            "|   |--- class: 0\n",
            "|--- feature_2 >  -0.82\n",
            "|   |--- feature_3 <= 0.67\n",
            "|   |   |--- feature_2 <= 0.64\n",
            "|   |   |   |--- feature_3 <= 0.54\n",
            "|   |   |   |   |--- class: 1\n",
            "|   |   |   |--- feature_3 >  0.54\n",
            "|   |   |   |   |--- class: 2\n",
            "|   |   |--- feature_2 >  0.64\n",
            "|   |   |   |--- feature_3 <= 0.41\n",
            "|   |   |   |   |--- class: 2\n",
            "|   |   |   |--- feature_3 >  0.41\n",
            "|   |   |   |   |--- feature_2 <= 0.92\n",
            "|   |   |   |   |   |--- class: 1\n",
            "|   |   |   |   |--- feature_2 >  0.92\n",
            "|   |   |   |   |   |--- class: 2\n",
            "|   |--- feature_3 >  0.67\n",
            "|   |   |--- feature_2 <= 0.58\n",
            "|   |   |   |--- feature_1 <= 0.11\n",
            "|   |   |   |   |--- class: 2\n",
            "|   |   |   |--- feature_1 >  0.11\n",
            "|   |   |   |   |--- class: 1\n",
            "|   |   |--- feature_2 >  0.58\n",
            "|   |   |   |--- class: 2\n",
            "\n"
          ],
          "name": "stdout"
        }
      ]
    },
    {
      "cell_type": "markdown",
      "metadata": {
        "id": "0XUPK6xM8aVX"
      },
      "source": [
        "### **Visualizing Decision tree**"
      ]
    },
    {
      "cell_type": "code",
      "metadata": {
        "colab": {
          "base_uri": "https://localhost:8080/",
          "height": 1000
        },
        "id": "g05XDd7lSG3A",
        "outputId": "9bd8ee59-641b-4569-88cd-ae3e5759872f"
      },
      "source": [
        "plt.figure(figsize=(20,17))\n",
        "tree.plot_tree(model,filled=True)"
      ],
      "execution_count": null,
      "outputs": [
        {
          "output_type": "execute_result",
          "data": {
            "text/plain": [
              "[Text(558.0, 847.1100000000001, 'X[2] <= -0.825\\ngini = 0.665\\nsamples = 120\\nvalue = [39, 37, 44]'),\n",
              " Text(472.15384615384613, 693.0900000000001, 'gini = 0.0\\nsamples = 39\\nvalue = [39, 0, 0]'),\n",
              " Text(643.8461538461538, 693.0900000000001, 'X[3] <= 0.671\\ngini = 0.496\\nsamples = 81\\nvalue = [0, 37, 44]'),\n",
              " Text(343.38461538461536, 539.0700000000002, 'X[2] <= 0.638\\ngini = 0.18\\nsamples = 40\\nvalue = [0, 36, 4]'),\n",
              " Text(171.69230769230768, 385.05000000000007, 'X[3] <= 0.542\\ngini = 0.056\\nsamples = 35\\nvalue = [0, 34, 1]'),\n",
              " Text(85.84615384615384, 231.0300000000001, 'gini = 0.0\\nsamples = 34\\nvalue = [0, 34, 0]'),\n",
              " Text(257.53846153846155, 231.0300000000001, 'gini = 0.0\\nsamples = 1\\nvalue = [0, 0, 1]'),\n",
              " Text(515.0769230769231, 385.05000000000007, 'X[3] <= 0.412\\ngini = 0.48\\nsamples = 5\\nvalue = [0, 2, 3]'),\n",
              " Text(429.23076923076917, 231.0300000000001, 'gini = 0.0\\nsamples = 2\\nvalue = [0, 0, 2]'),\n",
              " Text(600.9230769230769, 231.0300000000001, 'X[2] <= 0.919\\ngini = 0.444\\nsamples = 3\\nvalue = [0, 2, 1]'),\n",
              " Text(515.0769230769231, 77.0100000000001, 'gini = 0.0\\nsamples = 2\\nvalue = [0, 2, 0]'),\n",
              " Text(686.7692307692307, 77.0100000000001, 'gini = 0.0\\nsamples = 1\\nvalue = [0, 0, 1]'),\n",
              " Text(944.3076923076923, 539.0700000000002, 'X[2] <= 0.582\\ngini = 0.048\\nsamples = 41\\nvalue = [0, 1, 40]'),\n",
              " Text(858.4615384615383, 385.05000000000007, 'X[1] <= 0.109\\ngini = 0.5\\nsamples = 2\\nvalue = [0, 1, 1]'),\n",
              " Text(772.6153846153845, 231.0300000000001, 'gini = 0.0\\nsamples = 1\\nvalue = [0, 0, 1]'),\n",
              " Text(944.3076923076923, 231.0300000000001, 'gini = 0.0\\nsamples = 1\\nvalue = [0, 1, 0]'),\n",
              " Text(1030.1538461538462, 385.05000000000007, 'gini = 0.0\\nsamples = 39\\nvalue = [0, 0, 39]')]"
            ]
          },
          "metadata": {
            "tags": []
          },
          "execution_count": 18
        },
        {
          "output_type": "display_data",
          "data": {
            "image/png": "[encoded data removed]",
            "text/plain": [
              "<Figure size 1440x1224 with 1 Axes>"
            ]
          },
          "metadata": {
            "tags": [],
            "needs_background": "light"
          }
        }
      ]
    },
    {
      "cell_type": "code",
      "metadata": {
        "id": "NzwXmLvyU9T3"
      },
      "source": [
        "y_pred = clf.predict(X_test)   # prediction"
      ],
      "execution_count": null,
      "outputs": []
    },
    {
      "cell_type": "markdown",
      "metadata": {
        "id": "v1VPXmSLWQ7A"
      },
      "source": [
        "### *Confusion Matrix*\n",
        "\n",
        "\n",
        "---\n",
        "\n"
      ]
    },
    {
      "cell_type": "markdown",
      "metadata": {
        "id": "n-lcPwYM85Zf"
      },
      "source": [
        "A Confusion matrix is an N x N matrix used for evaluating the performance of a classification model, where N is the number of target classes. The matrix compares the actual target values with those predicted by the machine learning model. \n",
        "\n"
      ]
    },
    {
      "cell_type": "code",
      "metadata": {
        "colab": {
          "base_uri": "https://localhost:8080/",
          "height": 296
        },
        "id": "umXwq--c1L6V",
        "outputId": "c79d302b-32c4-47b8-b67f-0a78846e0241"
      },
      "source": [
        "# Confusion Matrix\n",
        "import seaborn as sns\n",
        "import matplotlib.pyplot as pt\n",
        "from sklearn.metrics import confusion_matrix\n",
        "conmat=confusion_matrix(y_test,y_pred) # Compute confusion matrix to evaluate the accuracy of a classification.\n",
        "sns.heatmap(conmat.T, square=True, annot=True, fmt='d', cbar=False,cmap='Reds_r') \n",
        "pt.xlabel('Actual class') \n",
        "pt.ylabel('Predicted class')"
      ],
      "execution_count": null,
      "outputs": [
        {
          "output_type": "execute_result",
          "data": {
            "text/plain": [
              "Text(91.68, 0.5, 'Predicted class')"
            ]
          },
          "metadata": {
            "tags": []
          },
          "execution_count": 20
        },
        {
          "output_type": "display_data",
          "data": {
            "image/png": "[encoded data removed]",
            "text/plain": [
              "<Figure size 432x288 with 1 Axes>"
            ]
          },
          "metadata": {
            "tags": [],
            "needs_background": "light"
          }
        }
      ]
    },
    {
      "cell_type": "markdown",
      "metadata": {
        "id": "f1iA045eW6cM"
      },
      "source": [
        "### *Classification Report*\n",
        "\n",
        "\n",
        "---\n",
        "\n"
      ]
    },
    {
      "cell_type": "markdown",
      "metadata": {
        "id": "BNTUxvP-6_pF"
      },
      "source": [
        "The classification report is used to display the precision, recall, F1, and support scores for the model.\n",
        "\n",
        "Precision:- Accuracy of positive predictions.\n",
        "\n",
        "Precision = TP/(TP + FP)\n",
        "\n",
        "Recall:- Fraction of positives that were correctly identified.\n",
        "\n",
        "Recall = TP/(TP+FN)\n",
        "\n",
        "F1 score - weighted harmonic mean of precision and recall \n",
        "\n",
        "F1 Score = 2*(Recall * Precision) / (Recall + Precision)\n",
        "\n",
        "Support is the number of actual occurrences of the class in the specified dataset. "
      ]
    },
    {
      "cell_type": "code",
      "metadata": {
        "colab": {
          "base_uri": "https://localhost:8080/"
        },
        "id": "aU3q4nIDU9ZZ",
        "outputId": "02848482-df16-4cfc-a718-3cc6427186d9"
      },
      "source": [
        "import sklearn.metrics as met\n",
        "from sklearn.metrics import accuracy_score,classification_report\n",
        "cr = classification_report(y_test,y_pred)    # Build a text report showing the main classification metrics.\n",
        "print(cr)\n",
        "accuracyscore=met.accuracy_score(y_test, y_pred)*100   # for getting the accuracy score in percentage multiply by 100\n",
        "print('\\n')\n",
        "print('Accuracy score given for test data:',str(accuracyscore))"
      ],
      "execution_count": null,
      "outputs": [
        {
          "output_type": "stream",
          "text": [
            "              precision    recall  f1-score   support\n",
            "\n",
            "           0       1.00      1.00      1.00        11\n",
            "           1       1.00      1.00      1.00        13\n",
            "           2       1.00      1.00      1.00         6\n",
            "\n",
            "    accuracy                           1.00        30\n",
            "   macro avg       1.00      1.00      1.00        30\n",
            "weighted avg       1.00      1.00      1.00        30\n",
            "\n",
            "\n",
            "\n",
            "Accuracy score given for test data: 100.0\n"
          ],
          "name": "stdout"
        }
      ]
    },
    {
      "cell_type": "markdown",
      "metadata": {
        "id": "1CU7Ao659SBb"
      },
      "source": [
        "### **Accuracy score given for test data: 100.0**\n",
        "\n",
        "\n",
        "\n",
        "---\n",
        "\n"
      ]
    },
    {
      "cell_type": "code",
      "metadata": {
        "id": "4Mzi46dgU9if"
      },
      "source": [
        "#  creating input variables\n",
        "\n",
        "sepal_length = 4.0\n",
        "sepal_width = 3.5\n",
        "petal_length = 5.5\n",
        "petal_width = 1.2"
      ],
      "execution_count": null,
      "outputs": []
    },
    {
      "cell_type": "code",
      "metadata": {
        "id": "HV87nYxTU9nM",
        "colab": {
          "base_uri": "https://localhost:8080/"
        },
        "outputId": "636a986a-6d1c-4fe4-b78e-7a0f59d12303"
      },
      "source": [
        "data = np.array([[sepal_length, sepal_width, petal_length, petal_width]])\n",
        "\n",
        "# scaling the input data\n",
        "scaled_data = sc.transform(data)\n",
        "\n",
        "class_index = clf.predict(scaled_data)[0]\n",
        "print(\"class index of input variables: \",class_index)\n",
        "if class_index == 0:\n",
        "    print(\"input variables belongs to class Setosa\")\n",
        "elif class_index == 1:\n",
        "    print(\"input variables belongs to class Virginica\")\n",
        "elif class_index == 2:\n",
        "    print(\"input variables belongs to class Versicolor\")"
      ],
      "execution_count": null,
      "outputs": [
        {
          "output_type": "stream",
          "text": [
            "class index of input variables:  2\n",
            "input variables belongs to class Versicolor\n"
          ],
          "name": "stdout"
        }
      ]
    },
    {
      "cell_type": "markdown",
      "metadata": {
        "id": "ysihqE0yJRl-"
      },
      "source": [
        "\n",
        "\n",
        "---\n",
        "\n",
        "\n",
        "\n",
        "---\n",
        "\n"
      ]
    }
  ]
}